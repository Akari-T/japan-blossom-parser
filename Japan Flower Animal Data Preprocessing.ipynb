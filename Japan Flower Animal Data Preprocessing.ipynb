{
 "cells": [
  {
   "cell_type": "markdown",
   "id": "c8673fd5",
   "metadata": {},
   "source": [
    "## Setup"
   ]
  },
  {
   "cell_type": "code",
   "execution_count": 1,
   "id": "2c6aa12c",
   "metadata": {},
   "outputs": [],
   "source": [
    "import pandas as pd\n",
    "import numpy as np\n",
    "from datetime import datetime\n",
    "\n",
    "import findspark\n",
    "findspark.init()\n",
    "\n",
    "from pyspark.sql import *\n",
    "import pyspark.sql.functions as F\n",
    "from pyspark import SparkContext"
   ]
  },
  {
   "cell_type": "markdown",
   "id": "3d98ac43",
   "metadata": {},
   "source": [
    "## Data Loading"
   ]
  },
  {
   "cell_type": "code",
   "execution_count": 2,
   "id": "9c519545",
   "metadata": {},
   "outputs": [
    {
     "data": {
      "text/html": [
       "<div>\n",
       "<style scoped>\n",
       "    .dataframe tbody tr th:only-of-type {\n",
       "        vertical-align: middle;\n",
       "    }\n",
       "\n",
       "    .dataframe tbody tr th {\n",
       "        vertical-align: top;\n",
       "    }\n",
       "\n",
       "    .dataframe thead th {\n",
       "        text-align: right;\n",
       "    }\n",
       "</style>\n",
       "<table border=\"1\" class=\"dataframe\">\n",
       "  <thead>\n",
       "    <tr style=\"text-align: right;\">\n",
       "      <th></th>\n",
       "      <th>ID</th>\n",
       "      <th>Location</th>\n",
       "    </tr>\n",
       "  </thead>\n",
       "  <tbody>\n",
       "    <tr>\n",
       "      <th>0</th>\n",
       "      <td>401</td>\n",
       "      <td>Wakkanai</td>\n",
       "    </tr>\n",
       "    <tr>\n",
       "      <th>1</th>\n",
       "      <td>406</td>\n",
       "      <td>Rumoi</td>\n",
       "    </tr>\n",
       "    <tr>\n",
       "      <th>2</th>\n",
       "      <td>407</td>\n",
       "      <td>Asahikawa</td>\n",
       "    </tr>\n",
       "    <tr>\n",
       "      <th>3</th>\n",
       "      <td>409</td>\n",
       "      <td>Abashiri</td>\n",
       "    </tr>\n",
       "    <tr>\n",
       "      <th>4</th>\n",
       "      <td>412</td>\n",
       "      <td>Sapporo</td>\n",
       "    </tr>\n",
       "  </tbody>\n",
       "</table>\n",
       "</div>"
      ],
      "text/plain": [
       "    ID     Location\n",
       "0  401     Wakkanai\n",
       "1  406      Rumoi　　\n",
       "2  407  Asahikawa　　\n",
       "3  409     Abashiri\n",
       "4  412      Sapporo"
      ]
     },
     "execution_count": 2,
     "metadata": {},
     "output_type": "execute_result"
    }
   ],
   "source": [
    "location = pd.read_csv('locations.csv')\n",
    "location.head()"
   ]
  },
  {
   "cell_type": "markdown",
   "id": "7a9ef731",
   "metadata": {},
   "source": [
    "## Create a function that will return the cleaned dataframe "
   ]
  },
  {
   "cell_type": "code",
   "execution_count": 10,
   "id": "cc838e04",
   "metadata": {},
   "outputs": [],
   "source": [
    "\"\"\"\n",
    "convert_to_datetime\n",
    "\n",
    "Converts the int dates to strings.\n",
    "\n",
    "entry: Integer of the month-date, written in format mmdd.\n",
    "year: Integer of the year, extracted by the column name. \n",
    "\"\"\"\n",
    "def convert_to_datetime(entry, year):\n",
    "    date_str = str(int(entry)).zfill(4)\n",
    "    month = str(date_str[:2])\n",
    "    day = str(date_str[2:])\n",
    "    return str(year) + '-' + month + '-' + day"
   ]
  },
  {
   "cell_type": "code",
   "execution_count": 11,
   "id": "2635e4b5",
   "metadata": {},
   "outputs": [],
   "source": [
    "\"\"\"\n",
    "clean_data\n",
    "\n",
    "Cleans the csv file in the format to a data analysis ready dataframe. \n",
    "\n",
    "Currently only creates a dataframe for the observed dates. \n",
    "No table for the remarks. No sanity check for checking if locations are matched correctly. \n",
    "\n",
    "file_path: String for the file path. \n",
    "\"\"\"\n",
    "\n",
    "def clean_data(file_path):\n",
    "    df_jp = pd.read_csv(file_path, encoding='cp932') # Encoding to correctly read Japanese characters\n",
    "    df_jp['Site Name'] = location['Location']\n",
    "\n",
    "    # could add a sanity check to make sure the location ids are matching...?\n",
    "\n",
    "    df_eng = df_jp.drop(['地点名', '番号'], axis=1)\n",
    "    cols = df_eng.columns.tolist()\n",
    "    cols = cols[-1:] + cols[:-1]\n",
    "    df_eng = df_eng[cols]\n",
    "    \n",
    "    # Partition the data to two tables\n",
    "    df_date = df_eng[df_eng.columns[1:][::2][:-4].insert(0, 'Site Name')]\n",
    "    df_rmk = df_eng[df_eng.columns[::2][:-2]]\n",
    "    \n",
    "    # Convert the times to datetime objects\n",
    "    years = df_date.columns[1:]\n",
    "    for year in years:\n",
    "        df_date[year] = df_date[year].apply(lambda x: convert_to_datetime(x, year) if x != 0 else 0)\n",
    "        \n",
    "    # Check if the observations are still made or not. \n",
    "    prev_yr = datetime.today().year -1\n",
    "\n",
    "    # Get the column for the previous year and if the value is 0, then \n",
    "    prev_yr_dates = df_date[str(prev_yr)]\n",
    "\n",
    "    df_date['Currently Being Observed'] = prev_yr_dates.apply(lambda x: True if x != 0 else False)\n",
    "    reorder = ['Site Name', 'Currently Being Observed'] + list(years)\n",
    "    return df_date[reorder]"
   ]
  },
  {
   "cell_type": "markdown",
   "id": "a19669b2",
   "metadata": {},
   "source": [
    "## Example"
   ]
  },
  {
   "cell_type": "code",
   "execution_count": 12,
   "id": "6ec9591a",
   "metadata": {},
   "outputs": [
    {
     "name": "stderr",
     "output_type": "stream",
     "text": [
      "/var/folders/0b/9sy9_0p51fz4vh_tvn2zmg180000gq/T/ipykernel_95789/2881575598.py:30: SettingWithCopyWarning: \n",
      "A value is trying to be set on a copy of a slice from a DataFrame.\n",
      "Try using .loc[row_indexer,col_indexer] = value instead\n",
      "\n",
      "See the caveats in the documentation: https://pandas.pydata.org/pandas-docs/stable/user_guide/indexing.html#returning-a-view-versus-a-copy\n",
      "  df_date[year] = df_date[year].apply(lambda x: convert_to_datetime(x, year) if x != 0 else 0)\n",
      "/var/folders/0b/9sy9_0p51fz4vh_tvn2zmg180000gq/T/ipykernel_95789/2881575598.py:38: SettingWithCopyWarning: \n",
      "A value is trying to be set on a copy of a slice from a DataFrame.\n",
      "Try using .loc[row_indexer,col_indexer] = value instead\n",
      "\n",
      "See the caveats in the documentation: https://pandas.pydata.org/pandas-docs/stable/user_guide/indexing.html#returning-a-view-versus-a-copy\n",
      "  df_date['Currently Being Observed'] = prev_yr_dates.apply(lambda x: True if x != 0 else False)\n"
     ]
    }
   ],
   "source": [
    "test = clean_data(\"nodafuji_full_bloom.csv\")"
   ]
  },
  {
   "cell_type": "code",
   "execution_count": 13,
   "id": "60825a25",
   "metadata": {},
   "outputs": [],
   "source": [
    "test.to_csv('fuji_cleaned.csv', index=False)"
   ]
  }
 ],
 "metadata": {
  "kernelspec": {
   "display_name": "Python 3 (ipykernel)",
   "language": "python",
   "name": "python3"
  },
  "language_info": {
   "codemirror_mode": {
    "name": "ipython",
    "version": 3
   },
   "file_extension": ".py",
   "mimetype": "text/x-python",
   "name": "python",
   "nbconvert_exporter": "python",
   "pygments_lexer": "ipython3",
   "version": "3.8.5"
  }
 },
 "nbformat": 4,
 "nbformat_minor": 5
}
